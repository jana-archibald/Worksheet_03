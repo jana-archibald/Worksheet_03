{
 "cells": [
  {
   "cell_type": "markdown",
   "id": "45a856b1",
   "metadata": {
    "editable": false
   },
   "source": [
    "### The third question is about the cdc data that you used in worksheet 3. Please run the code below to load the data. ###\n",
    "\n",
    "## Data Information: ##\n",
    "\n",
    "### Data Set 1: ###\n",
    "Today we will be using data from the CDC.  \n",
    "\n",
    "The Behavioral Risk Factor Surveillance System (BRFSS) is an annual telephone survey of 350,000 people in the United States. As its name implies, the BRFSS is designed to identify risk factors in the adult population and report emerging health trends. For example, respondents are asked about their diet and weekly physical activity, their HIV/AIDS status, possible tobacco use, and even their level of healthcare coverage. The BRFSS Web site (http://www.cdc.gov/brfss) contains a complete description of the survey, including the research questions that motivate the study and many interesting results derived from the data.\n",
    "\n",
    "While there are over **200** variables in this data set, we will work with a small subset.\n",
    "#### Name: #### \n",
    "* `cdc200` - health data from the sample of the BRFSS survey from 2000.\n",
    "\n",
    "#### Variables: ####\n",
    "* `genhlth` - respondents were asked to evaluate their general health, responding either excellent, very good, good, fair or poor\n",
    "* `exerany` - whether the respondent exercised in the past month (recent) or did not (not_recent).\n",
    "* `hlthplan` - whether the respondent had some form of health coverage (insured) or did not (uninsured).\n",
    "* `smoke100` - whether the respondent had smoked at least 100 cigarettes in her lifetime (smoker) or has not (nonsmoker).\n",
    "* `height` - the respondent's height measured in inches.\n",
    "* `weight` - the respondent's weight measured in pounds.\n",
    "* `wtdesire` - the respondent's desired weight measured in pounds.\n",
    "* `age` - the respondent's age measured in years.\n",
    "* `gender` - whether the respondent said they were female or male.\n",
    "\n",
    "## Tools: ##"
   ]
  },
  {
   "cell_type": "code",
   "execution_count": 1,
   "id": "86694125",
   "metadata": {
    "editable": false
   },
   "outputs": [],
   "source": [
    "cdc <- read.csv(\"cdc200.csv\", header=TRUE)"
   ]
  },
  {
   "cell_type": "markdown",
   "id": "c7eb7b40",
   "metadata": {
    "editable": false
   },
   "source": [
    "## Question 3\n",
    "\n",
    "Compute the following probabilities. To show your work use R to create a contingency table, and use the code cells to compute the probabilites.\n",
    "\n",
    "For each answer use the correct probability notation.\n",
    "\n",
    "For example to compute the probability that a randomly selected individual has good general health your answer should be.\n",
    "\n",
    "### P(good health)=52/200=0.26 ### \n",
    "\n",
    "A) The probability that a randomly selected individual is in good health.\n",
    "\n",
    "B) The probability that a randomly selected man is in poor health.\n",
    "\n",
    "C) The probability that a randomly selected individual is a woman who doesn't smoke.\n",
    "\n",
    "D) The probabiity that a randomly selected individual is a has a health plan, or is in excellent health.\n",
    "\n",
    "E) Are the events VG= \\{in very good health\\}, and NR = \\{no recent exercise \\} independent?  You must justify your answer with a calculation, and use the probability notation to show your work. Write (at least) one sentence explaining your answer."
   ]
  },
  {
   "cell_type": "markdown",
   "id": "5ac50768",
   "metadata": {
    "editable": false
   },
   "source": [
    "A) The probability that a randomly selected individual is in good health."
   ]
  },
  {
   "cell_type": "code",
   "execution_count": null,
   "id": "39a4c50e",
   "metadata": {},
   "outputs": [],
   "source": []
  },
  {
   "cell_type": "markdown",
   "id": "8ffa346e",
   "metadata": {},
   "source": [
    "Written Answer"
   ]
  },
  {
   "cell_type": "markdown",
   "id": "a2c81226",
   "metadata": {
    "editable": false
   },
   "source": [
    "B) The probability that a randomly selected man is in poor health."
   ]
  },
  {
   "cell_type": "code",
   "execution_count": null,
   "id": "88b1b39e",
   "metadata": {},
   "outputs": [],
   "source": []
  },
  {
   "cell_type": "markdown",
   "id": "353ba902",
   "metadata": {},
   "source": [
    "Written Answer"
   ]
  },
  {
   "cell_type": "markdown",
   "id": "a40f8e64",
   "metadata": {
    "editable": false
   },
   "source": [
    "C) The probability that a randomly selected individual is a woman who doesn't smoke."
   ]
  },
  {
   "cell_type": "code",
   "execution_count": null,
   "id": "a0b5a610",
   "metadata": {},
   "outputs": [],
   "source": []
  },
  {
   "cell_type": "markdown",
   "id": "6a08ef19",
   "metadata": {},
   "source": [
    "Written Answer"
   ]
  },
  {
   "cell_type": "markdown",
   "id": "a860cf0b",
   "metadata": {
    "editable": false
   },
   "source": [
    "D) The probabiity that a randomly selected individual is a has a health plan, or is in excellent health."
   ]
  },
  {
   "cell_type": "code",
   "execution_count": null,
   "id": "d4186493",
   "metadata": {},
   "outputs": [],
   "source": []
  },
  {
   "cell_type": "markdown",
   "id": "693b6cf6",
   "metadata": {},
   "source": [
    "Written Answer"
   ]
  },
  {
   "cell_type": "markdown",
   "id": "e4e9f34e",
   "metadata": {
    "editable": false
   },
   "source": [
    "E) Are the events VG= {in very good health}, and NR = {no recent exercise } independent? You must justify your answer with a calculation, and use the probability notation to show your work. Write (at least) one sentence explaining your answer."
   ]
  },
  {
   "cell_type": "code",
   "execution_count": null,
   "id": "52d8a593",
   "metadata": {},
   "outputs": [],
   "source": []
  },
  {
   "cell_type": "markdown",
   "id": "8a9fefe9",
   "metadata": {},
   "source": [
    "Written Answer"
   ]
  },
  {
   "cell_type": "code",
   "execution_count": null,
   "id": "2060ae2b",
   "metadata": {},
   "outputs": [],
   "source": []
  }
 ],
 "metadata": {
  "kernelspec": {
   "display_name": "R",
   "language": "R",
   "name": "ir"
  },
  "language_info": {
   "codemirror_mode": "r",
   "file_extension": ".r",
   "mimetype": "text/x-r-source",
   "name": "R",
   "pygments_lexer": "r",
   "version": "4.1.2"
  }
 },
 "nbformat": 4,
 "nbformat_minor": 5
}
